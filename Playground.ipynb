{
 "cells": [
  {
   "cell_type": "code",
   "execution_count": null,
   "id": "c9c2cd4f",
   "metadata": {},
   "outputs": [],
   "source": [
    "#!pip install mediapipe\n",
    "#Running python 3.9.7 "
   ]
  },
  {
   "cell_type": "code",
   "execution_count": 40,
   "id": "62c7934a",
   "metadata": {},
   "outputs": [],
   "source": [
    "import mediapipe as mp\n",
    "import cv2\n",
    "import numpy as np\n",
    "#import uuid\n",
    "import os\n",
    "from datetime import datetime\n",
    "import random"
   ]
  },
  {
   "cell_type": "code",
   "execution_count": 3,
   "id": "9f41198e",
   "metadata": {},
   "outputs": [],
   "source": [
    "#os.mkdir('Output Images')"
   ]
  },
  {
   "cell_type": "code",
   "execution_count": 41,
   "id": "77504e75",
   "metadata": {},
   "outputs": [],
   "source": [
    "def setImagesPaths(folderPath):\n",
    "    myList = os.listdir(folderPath)\n",
    "    overLayList = []\n",
    "    for imPath in myList:\n",
    "        if imPath!= '.DS_Store':\n",
    "            image = cv2.imread(f'{folderPath}/{imPath}')\n",
    "            #print(f'{folderPath}/{imPath}')\n",
    "            overLayList.append(image)\n",
    "    return overLayList"
   ]
  },
  {
   "cell_type": "code",
   "execution_count": 4,
   "id": "0710d588",
   "metadata": {},
   "outputs": [],
   "source": [
    "def overlayExoSkeleton(frame):\n",
    "    # BGR 2 RGB\n",
    "    image = cv2.cvtColor(frame, cv2.COLOR_BGR2RGB)    \n",
    "    # Flip on horizontal\n",
    "    image = cv2.flip(image, 1)\n",
    "    # Set flag\n",
    "    image.flags.writeable = False    \n",
    "    # Detections\n",
    "    results = hands.process(image)    \n",
    "    # Set flag to true\n",
    "    image.flags.writeable = True   \n",
    "    # RGB 2 BGR\n",
    "    image = cv2.cvtColor(image, cv2.COLOR_RGB2BGR)   \n",
    "    return results, image     "
   ]
  },
  {
   "cell_type": "code",
   "execution_count": 5,
   "id": "a82290b3",
   "metadata": {},
   "outputs": [],
   "source": [
    "def renderExoSkeleton(results, image):\n",
    "    lmList = []\n",
    "    if results.multi_hand_landmarks:\n",
    "        for num, hand in enumerate(results.multi_hand_landmarks):\n",
    "            mp_drawing.draw_landmarks(image, hand, mp_hands.HAND_CONNECTIONS, \n",
    "                                    mp_drawing.DrawingSpec(color=(121, 22, 76), thickness=2, circle_radius=4),\n",
    "                                    mp_drawing.DrawingSpec(color=(250, 44, 250), thickness=2, circle_radius=2),\n",
    "                                     )\n",
    "            #Get the positions of every joint point and add them to lmList\n",
    "            for idx, lm in enumerate(hand.landmark):\n",
    "                #print(idx, lm)\n",
    "                h, w, c = image.shape\n",
    "                cx, cy = int(lm.x * w), int(lm.y * h)\n",
    "                #print(idx, cx, cy)\n",
    "                lmList.append([idx, cx, cy])\n",
    "    return lmList"
   ]
  },
  {
   "cell_type": "code",
   "execution_count": 6,
   "id": "29c7be71",
   "metadata": {},
   "outputs": [],
   "source": [
    "def checkRock(jointsPos):\n",
    "    return jointsPos[tips_of_finger[0]][1]<jointsPos[tips_of_finger[0]-1][1]\n",
    "\n",
    "def checkScissors(jointsPos):\n",
    "    return ((jointsPos[tips_of_finger[2]][2])-(jointsPos[tips_of_finger[1]][2]))>100\n",
    "\n",
    "def checkPaperOrSpock(jointsPos):\n",
    "    return ((jointsPos[tips_of_finger[0]][2])-(jointsPos[tips_of_finger[2]][2]))>100\n",
    "\n",
    "def checkSpock(jointsPos):\n",
    "    return ((jointsPos[tips_of_finger[2]][1])-(jointsPos[tips_of_finger[3]][1]))>50\n",
    "\n",
    "def checkLizard(jointsPos):\n",
    "    return ((jointsPos[tips_of_finger[2]][2])-(jointsPos[tips_of_finger[0]][2]))<20"
   ]
  },
  {
   "cell_type": "code",
   "execution_count": 24,
   "id": "428a94b3",
   "metadata": {},
   "outputs": [],
   "source": [
    "def checkWinnerLoseTie(pc_choice, player_choice):\n",
    "    wins = 0\n",
    "    if pc_choice == player_choice:\n",
    "        cv2.putText(image, f'Pc chose {pc_choice}, you tie!', (740, 50), cv2.FONT_HERSHEY_PLAIN,2.0, (0, 0, 0), 3)\n",
    "    elif pc_choice in logic[player_choice]:\n",
    "        cv2.putText(image, f'Pc chose {pc_choice}, you win!', (740, 50), cv2.FONT_HERSHEY_PLAIN,2.0, (0, 0, 0), 3)\n",
    "        wins += 1\n",
    "    else:\n",
    "        cv2.putText(image, f'Pc chose {pc_choice}, you lose!', (740, 50), cv2.FONT_HERSHEY_PLAIN,2.0, (0, 0, 0), 3) \n",
    "    return wins"
   ]
  },
  {
   "cell_type": "code",
   "execution_count": 19,
   "id": "fa204e3d",
   "metadata": {},
   "outputs": [],
   "source": [
    "def getChoiceEmoji(jointsPos): \n",
    "    player_choice = ''\n",
    "    if len(jointsPos) != 0:\n",
    "        if checkRock(jointsPos):\n",
    "            h, w, c = overLayList[2].shape\n",
    "            image[0:h,0:w] = overLayList[2]\n",
    "            player_choice = 'rock'\n",
    "        elif checkScissors(jointsPos):\n",
    "            h, w, c = overLayList[3].shape\n",
    "            image[0:h,0:w] = overLayList[3]\n",
    "            player_choice = 'scissors'\n",
    "        elif checkPaperOrSpock(jointsPos):\n",
    "            if checkSpock(jointsPos):\n",
    "                h, w, c = overLayList[1].shape\n",
    "                image[0:h,0:w] = overLayList[1]\n",
    "                player_choice = 'spock'\n",
    "            else:\n",
    "                h, w, c = overLayList[0].shape\n",
    "                image[0:h,0:w] = overLayList[0]\n",
    "                player_choice = 'paper'\n",
    "        elif checkLizard(jointsPos):\n",
    "            h, w, c = overLayList[4].shape\n",
    "            image[0:h,0:w] = overLayList[4]\n",
    "            player_choice = 'lizard'\n",
    "    return player_choice"
   ]
  },
  {
   "cell_type": "code",
   "execution_count": 43,
   "id": "e7cbeb49",
   "metadata": {},
   "outputs": [],
   "source": [
    "overLayList = setImagesPaths(\"emojis\")\n",
    "mp_drawing = mp.solutions.drawing_utils\n",
    "mp_hands = mp.solutions.hands\n",
    "logic = {\n",
    "    'scissors': ['paper', 'lizard'],\n",
    "    'paper': ['rock', 'spock'],\n",
    "    'rock': ['lizard','scissors'],\n",
    "    'lizard': ['spock', 'paper'],\n",
    "    'spock': ['scissors', 'rock']\n",
    "}\n",
    "player_choice = ''\n",
    "tips_of_finger = [4,8,12,16,20]       \n",
    "last_detected = datetime.now()"
   ]
  },
  {
   "cell_type": "code",
   "execution_count": 47,
   "id": "9345e941",
   "metadata": {
    "scrolled": true
   },
   "outputs": [],
   "source": [
    "record_wins = 0\n",
    "cap = cv2.VideoCapture(0)\n",
    "with mp_hands.Hands(min_detection_confidence=0.8, min_tracking_confidence=0.5) as hands: \n",
    "    while cap.isOpened():\n",
    "        ret, frame = cap.read()\n",
    "        results, image = overlayExoSkeleton(frame)\n",
    "        #print(results)\n",
    "        \n",
    "        #Save position of all joints in a frame \n",
    "        lmList = renderExoSkeleton(results, image)\n",
    "        \n",
    "        #Save choice made and display emoji\n",
    "        player_choice = getChoiceEmoji(lmList) \n",
    "\n",
    "        key = cv2.waitKey(5)\n",
    "        #If 'p' is clicked play game\n",
    "        if key == 112 and player_choice:\n",
    "            last_detected = datetime.now()\n",
    "            pc_choice = random.choice(list(logic.keys()))\n",
    "            wins = checkWinnerLoseTie(pc_choice, player_choice)\n",
    "            record_wins += wins\n",
    "            cv2.putText(image, f'Wins:{record_wins}', (100, 700), cv2.FONT_HERSHEY_TRIPLEX,2.0, (0, 215, 255), 3) \n",
    "        elif key & 0xFF == ord('q'):\n",
    "            break\n",
    "        else:\n",
    "            if (datetime.now() - last_detected).total_seconds() < 2 and player_choice:\n",
    "                checkWinnerLoseTie(pc_choice, player_choice)\n",
    "                cv2.putText(image, f'Wins:{record_wins}', (100, 700), cv2.FONT_HERSHEY_TRIPLEX,2.0, (0, 215, 255), 3) \n",
    "\n",
    "        cv2.imshow('Hand Tracking', image)\n",
    "    \n",
    "cap.release()\n",
    "cv2.destroyAllWindows()"
   ]
  }
 ],
 "metadata": {
  "kernelspec": {
   "display_name": "Python 3 (ipykernel)",
   "language": "python",
   "name": "python3"
  },
  "language_info": {
   "codemirror_mode": {
    "name": "ipython",
    "version": 3
   },
   "file_extension": ".py",
   "mimetype": "text/x-python",
   "name": "python",
   "nbconvert_exporter": "python",
   "pygments_lexer": "ipython3",
   "version": "3.9.7"
  }
 },
 "nbformat": 4,
 "nbformat_minor": 5
}
